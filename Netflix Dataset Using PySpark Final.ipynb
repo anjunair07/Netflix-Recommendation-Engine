{
 "cells": [
  {
   "cell_type": "code",
   "execution_count": 84,
   "metadata": {},
   "outputs": [
    {
     "data": {
      "text/plain": [
       "'C:\\\\Program Files\\\\Spark\\\\spark-3.2.1-bin-hadoop3.2'"
      ]
     },
     "execution_count": 84,
     "metadata": {},
     "output_type": "execute_result"
    }
   ],
   "source": [
    "import findspark\n",
    "findspark.init()\n",
    "findspark.find()"
   ]
  },
  {
   "cell_type": "code",
   "execution_count": 85,
   "metadata": {},
   "outputs": [],
   "source": [
    "# Import PySpark\n",
    "from pyspark.sql import SparkSession"
   ]
  },
  {
   "cell_type": "code",
   "execution_count": 86,
   "metadata": {},
   "outputs": [],
   "source": [
    "from pyspark import SparkConf, SparkContext\n",
    "from pyspark.sql import SQLContext"
   ]
  },
  {
   "cell_type": "code",
   "execution_count": 87,
   "metadata": {},
   "outputs": [],
   "source": [
    "from pyspark.sql import SparkSession # required to created a dataframe\n",
    "spark=SparkSession.builder.appName(\"Basics\").getOrCreate()\n",
    "\n",
    "import pandas as pd\n",
    "import numpy as np\n",
    "import time\n",
    "import pyspark.sql.functions\n",
    "import pyspark.sql.types\n",
    "from pyspark.sql import SparkSession\n",
    "from pyspark.context import SparkContext\n",
    "from pyspark.sql.functions import round\n",
    "from pyspark.sql.types import DoubleType\n",
    "from pyspark.sql.functions import udf"
   ]
  },
  {
   "cell_type": "code",
   "execution_count": 88,
   "metadata": {},
   "outputs": [
    {
     "name": "stdout",
     "output_type": "stream",
     "text": [
      "+-------+-------+--------------------+--------------------+--------------------+-------------+--------------+--------------------+----------+------------------+------------+------+---------+--------------------+----+\n",
      "|show_id|   type|               title|            director|                cast|        Genre| country_split|             country|      date|        date_added|release_year|rating| duration|           listed_in|_c14|\n",
      "+-------+-------+--------------------+--------------------+--------------------+-------------+--------------+--------------------+----------+------------------+------------+------+---------+--------------------+----+\n",
      "|      1|  Movie|Dick Johnson Is Dead|     Kirsten Johnson|                null|Documentaries| United States|       United States|25/09/2021|September 25, 2021|        2020| PG-13|   90 min|       Documentaries|null|\n",
      "|      2|TV Show|       Blood & Water|                null|Ama Qamata, Khosi...|International|  South Africa|        South Africa|24/09/2021|September 24, 2021|        2021| TV-MA|2 Seasons|International TV ...|null|\n",
      "|      3|TV Show|           Ganglands|     Julien Leclercq|Sami Bouajila, Tr...|        Crime|          null|                null|24/09/2021|September 24, 2021|        2021| TV-MA| 1 Season|Crime TV Shows, I...|null|\n",
      "|      4|TV Show|Jailbirds New Orl...|                null|                null|   Docuseries|          null|                null|24/09/2021|September 24, 2021|        2021| TV-MA| 1 Season|Docuseries, Reali...|null|\n",
      "|      5|TV Show|        Kota Factory|                null|Mayur More, Jiten...|International|         India|               India|24/09/2021|September 24, 2021|        2021| TV-MA|2 Seasons|International TV ...|null|\n",
      "|      6|TV Show|       Midnight Mass|       Mike Flanagan|Kate Siegel, Zach...|           TV|          null|                null|24/09/2021|September 24, 2021|        2021| TV-MA| 1 Season|TV Dramas, TV Hor...|null|\n",
      "|      7|  Movie|My Little Pony: A...|Robert Cullen, Jo...|Vanessa Hudgens, ...|     Children|          null|                null|24/09/2021|September 24, 2021|        2021|    PG|   91 min|Children & Family...|null|\n",
      "|      8|  Movie|             Sankofa|        Haile Gerima|Kofi Ghanaba, Oya...|       Dramas| United States|United States, Gh...|24/09/2021|September 24, 2021|        1993| TV-MA|  125 min|Dramas, Independe...|null|\n",
      "|      9|TV Show|The Great British...|     Andy Devonshire|Mel Giedroyc, Sue...|      British|United Kingdom|      United Kingdom|24/09/2021|September 24, 2021|        2021| TV-14|9 Seasons|British TV Shows,...|null|\n",
      "|     10|  Movie|        The Starling|      Theodore Melfi|Melissa McCarthy,...|     Comedies| United States|       United States|24/09/2021|September 24, 2021|        2021| PG-13|  104 min|    Comedies, Dramas|null|\n",
      "|     11|TV Show|Vendetta: Truth, ...|                null|                null|        Crime|          null|                null|24/09/2021|September 24, 2021|        2021| TV-MA| 1 Season|Crime TV Shows, D...|null|\n",
      "|     12|TV Show|    Bangkok Breaking|   Kongkiat Komesiri|Sukollawat Kanaro...|        Crime|          null|                null|23/09/2021|September 23, 2021|        2021| TV-MA| 1 Season|Crime TV Shows, I...|null|\n",
      "|     13|  Movie|        Je Suis Karl| Christian Schwochow|Luna Wedler, Jann...|       Dramas|       Germany|Germany, Czech Re...|23/09/2021|September 23, 2021|        2021| TV-MA|  127 min|Dramas, Internati...|null|\n",
      "|     14|  Movie|Confessions of an...|       Bruno Garotti|Klara Castanho, L...|     Children|          null|                null|22/09/2021|September 22, 2021|        2021| TV-PG|   91 min|Children & Family...|null|\n",
      "|     15|TV Show|Crime Stories: In...|                null|                null|      British|          null|                null|22/09/2021|September 22, 2021|        2021| TV-MA| 1 Season|British TV Shows,...|null|\n",
      "|     16|TV Show|   Dear White People|                null|Logan Browning, B...|           TV| United States|       United States|22/09/2021|September 22, 2021|        2021| TV-MA|4 Seasons|TV Comedies, TV D...|null|\n",
      "|     17|  Movie|Europe's Most Dan...|Pedro de Echave G...|                null|Documentaries|          null|                null|22/09/2021|September 22, 2021|        2020| TV-MA|   67 min|Documentaries, In...|null|\n",
      "|     18|TV Show|     Falsa identidad|                null|Luis Ernesto Fran...|        Crime|        Mexico|              Mexico|22/09/2021|September 22, 2021|        2020| TV-MA|2 Seasons|Crime TV Shows, S...|null|\n",
      "|     19|  Movie|           Intrusion|          Adam Salky|Freida Pinto, Log...|    Thrillers|          null|                null|22/09/2021|September 22, 2021|        2021| TV-14|   94 min|           Thrillers|null|\n",
      "|     20|TV Show|              Jaguar|                null|Blanca Suárez, Iv...|International|          null|                null|22/09/2021|September 22, 2021|        2021| TV-MA| 1 Season|International TV ...|null|\n",
      "+-------+-------+--------------------+--------------------+--------------------+-------------+--------------+--------------------+----------+------------------+------------+------+---------+--------------------+----+\n",
      "only showing top 20 rows\n",
      "\n"
     ]
    }
   ],
   "source": [
    "# read csv file\n",
    "df = spark.read.csv(\"C:/Users/anjun/.vscode/netflix_titles.csv\", header=True, inferSchema=True)\n",
    "df.show()"
   ]
  },
  {
   "cell_type": "code",
   "execution_count": 89,
   "metadata": {},
   "outputs": [
    {
     "name": "stdout",
     "output_type": "stream",
     "text": [
      "root\n",
      " |-- show_id: string (nullable = true)\n",
      " |-- type: string (nullable = true)\n",
      " |-- title: string (nullable = true)\n",
      " |-- director: string (nullable = true)\n",
      " |-- cast: string (nullable = true)\n",
      " |-- Genre: string (nullable = true)\n",
      " |-- country_split: string (nullable = true)\n",
      " |-- country: string (nullable = true)\n",
      " |-- date: string (nullable = true)\n",
      " |-- date_added: string (nullable = true)\n",
      " |-- release_year: string (nullable = true)\n",
      " |-- rating: string (nullable = true)\n",
      " |-- duration: string (nullable = true)\n",
      " |-- listed_in: string (nullable = true)\n",
      " |-- _c14: string (nullable = true)\n",
      "\n"
     ]
    }
   ],
   "source": [
    "#print schema\n",
    "df.printSchema()"
   ]
  },
  {
   "cell_type": "code",
   "execution_count": 90,
   "metadata": {},
   "outputs": [
    {
     "data": {
      "text/plain": [
       "['show_id',\n",
       " 'type',\n",
       " 'title',\n",
       " 'director',\n",
       " 'cast',\n",
       " 'Genre',\n",
       " 'country_split',\n",
       " 'country',\n",
       " 'date',\n",
       " 'date_added',\n",
       " 'release_year',\n",
       " 'rating',\n",
       " 'duration',\n",
       " 'listed_in',\n",
       " '_c14']"
      ]
     },
     "execution_count": 90,
     "metadata": {},
     "output_type": "execute_result"
    }
   ],
   "source": [
    "# print column names\n",
    "df.columns"
   ]
  },
  {
   "cell_type": "code",
   "execution_count": 91,
   "metadata": {},
   "outputs": [
    {
     "data": {
      "text/plain": [
       "8808"
      ]
     },
     "execution_count": 91,
     "metadata": {},
     "output_type": "execute_result"
    }
   ],
   "source": [
    "df=df.dropDuplicates() # drop duplicate rows\n",
    "df.count()"
   ]
  },
  {
   "cell_type": "code",
   "execution_count": 92,
   "metadata": {},
   "outputs": [
    {
     "name": "stdout",
     "output_type": "stream",
     "text": [
      "8808\n"
     ]
    }
   ],
   "source": [
    "print(df.count())"
   ]
  },
  {
   "cell_type": "code",
   "execution_count": 93,
   "metadata": {},
   "outputs": [
    {
     "name": "stdout",
     "output_type": "stream",
     "text": [
      "+-------+------------------+-------------+---------------------------------+--------------------+--------------------+----------------+-------------+---------------+--------------+-------------+-----------------+----------------+--------------------+-------------+------------------+\n",
      "|summary|           show_id|         type|                            title|            director|                cast|           Genre|country_split|        country|          date|   date_added|     release_year|          rating|            duration|    listed_in|              _c14|\n",
      "+-------+------------------+-------------+---------------------------------+--------------------+--------------------+----------------+-------------+---------------+--------------+-------------+-----------------+----------------+--------------------+-------------+------------------+\n",
      "|  count|              8808|         8808|                             8807|                6173|                7983|            8807|         7975|           7976|          8796|         8797|             8807|            8803|                8803|         8806|                19|\n",
      "|   mean|            4404.0|         null|               1124.7692307692307|                null|                null|            null|         null|           null|        1944.0|         null|2014.189598270172|          2016.8|              1994.0|         null|2014.6666666666667|\n",
      "| stddev|2542.5062438468076|         null|               1042.1800991068476|                null|                null|            null|         null|           null|          null|         null|8.786618147271273|6.26099033699945|                null|         null| 4.509249752822894|\n",
      "|    min|                 1|        Movie|             \"Behind \"\"The Cov...|\"Sam \"\"Blitz\"\" Ba...|\"Black Deniro, By...| Ama K. Abebrese|  Carla Gallo| Charles Rocket| Adriane Lenox| Alan Cumming|       Akin Lewis|  Alicia Sánchez|        Devale Ellis| Angel Alkain|       Ana Wagener|\n",
      "|    max|  Flying Fortress\"|William Wyler|최강전사 미니특공대 : 영웅의 탄생|        Şenol Sönmez|Ṣọpẹ́ Dìrísù, Wun...|   United States|     Zimbabwe|       Zimbabwe| United States|United States|    United States|   United States|United States, Un...|United States|     United States|\n",
      "+-------+------------------+-------------+---------------------------------+--------------------+--------------------+----------------+-------------+---------------+--------------+-------------+-----------------+----------------+--------------------+-------------+------------------+\n",
      "\n"
     ]
    }
   ],
   "source": [
    "# print in proper format all the data\n",
    "\n",
    "Describe_table=df.describe() # calculate summary statistics\n",
    "Describe_table.show(n=5,truncate=True)"
   ]
  },
  {
   "cell_type": "code",
   "execution_count": 95,
   "metadata": {},
   "outputs": [
    {
     "name": "stdout",
     "output_type": "stream",
     "text": [
      "+-------+------------+-----+\n",
      "|   type|release_year|count|\n",
      "+-------+------------+-----+\n",
      "|TV Show|        1963|    1|\n",
      "|TV Show|        1945|    1|\n",
      "|  Movie|        null|    1|\n",
      "|  Movie|        1963|    1|\n",
      "|  Movie|      Action|    1|\n",
      "|TV Show|        1972|    1|\n",
      "|TV Show|        1925|    1|\n",
      "|TV Show|        1967|    1|\n",
      "|  Movie|  01/11/2020|    1|\n",
      "|  Movie|        1966|    1|\n",
      "+-------+------------+-----+\n",
      "only showing top 10 rows\n",
      "\n"
     ]
    }
   ],
   "source": [
    "df.groupBy('type','release_year',).count().sort('count', ascending=True).show(10)"
   ]
  },
  {
   "cell_type": "code",
   "execution_count": 96,
   "metadata": {},
   "outputs": [
    {
     "name": "stdout",
     "output_type": "stream",
     "text": [
      "+-------+-----+-------------------+-----------------+--------------------+-----------+--------------+--------------------+----------+---------------+------------+------+--------+--------------------+----+-----------+----------+\n",
      "|show_id| type|              title|         director|                cast|      Genre| country_split|             country|      date|     date_added|release_year|rating|duration|           listed_in|_c14|month_added|year_added|\n",
      "+-------+-----+-------------------+-----------------+--------------------+-----------+--------------+--------------------+----------+---------------+------------+------+--------+--------------------+----+-----------+----------+\n",
      "|    191|Movie|         Thimmarusu|Sharan Koppisetty|Satya Dev, Priyan...|     Dramas|         India|               India|28/08/2021|August 28, 2021|        2021| TV-14| 125 min|Dramas, Internati...|null|       /08/|      2021|\n",
      "|    341|Movie|          Inception|Christopher Nolan|Leonardo DiCaprio...|     Action| United States|United States, Un...|01/08/2021| August 1, 2021|        2010| PG-13| 148 min|Action & Adventur...|null|       /08/|      2021|\n",
      "|    595|Movie|          Star Trek|      J.J. Abrams|Chris Pine, Zacha...|     Action| United States|United States, Ge...|01/07/2021|   July 1, 2021|        2009| PG-13| 128 min|Action & Adventur...|null|       /07/|      2021|\n",
      "|    742|Movie|Blind Intersections|        Lara Saba|Alaa Hammoud, Ghi...|     Dramas|       Lebanon|Lebanon, United A...|10/06/2021|  June 10, 2021|        2012| TV-MA|  91 min|Dramas, Internati...|null|       /06/|      2021|\n",
      "|    892|Movie|         Layer Cake|   Matthew Vaughn|Daniel Craig, Col...|Independent|United Kingdom|      United Kingdom|13/05/2021|   May 13, 2021|        2004|     R| 105 min|Independent Movie...|null|       /05/|      2021|\n",
      "+-------+-----+-------------------+-----------------+--------------------+-----------+--------------+--------------------+----------+---------------+------------+------+--------+--------------------+----+-----------+----------+\n",
      "only showing top 5 rows\n",
      "\n"
     ]
    }
   ],
   "source": [
    "# Adding a column to the dataframe\n",
    "#month_added and year_added are the columns to be added\n",
    "\n",
    "df = df.withColumn(\"month_added\", pyspark.sql.functions.substring(df[\"date\"],3,4)).withColumn(\"year_added\", pyspark.sql.functions.substring(df[\"date\"], 7, 8))\n",
    "df.show(truncate=True, n=5)"
   ]
  },
  {
   "cell_type": "code",
   "execution_count": 97,
   "metadata": {},
   "outputs": [
    {
     "name": "stdout",
     "output_type": "stream",
     "text": [
      "+-------+-----+-------------------+-----------------+--------------------+-----------+--------------+--------------------+----------+---------------+------------+------+--------+--------------------+----+-----------+----------+\n",
      "|show_id| type|              title|         director|                cast|      Genre| country_split|             country|      date|     date_added|release_year|rating|duration|           listed_in|_c14|month_added|year_added|\n",
      "+-------+-----+-------------------+-----------------+--------------------+-----------+--------------+--------------------+----------+---------------+------------+------+--------+--------------------+----+-----------+----------+\n",
      "|    191|Movie|         Thimmarusu|Sharan Koppisetty|Satya Dev, Priyan...|     Dramas|         India|               India|28/08/2021|August 28, 2021|        2021| TV-14| 125 min|Dramas, Internati...|null|       /08/|      2021|\n",
      "|    341|Movie|          Inception|Christopher Nolan|Leonardo DiCaprio...|     Action| United States|United States, Un...|01/08/2021| August 1, 2021|        2010| PG-13| 148 min|Action & Adventur...|null|       /08/|      2021|\n",
      "|    595|Movie|          Star Trek|      J.J. Abrams|Chris Pine, Zacha...|     Action| United States|United States, Ge...|01/07/2021|   July 1, 2021|        2009| PG-13| 128 min|Action & Adventur...|null|       /07/|      2021|\n",
      "|    742|Movie|Blind Intersections|        Lara Saba|Alaa Hammoud, Ghi...|     Dramas|       Lebanon|Lebanon, United A...|10/06/2021|  June 10, 2021|        2012| TV-MA|  91 min|Dramas, Internati...|null|       /06/|      2021|\n",
      "|    892|Movie|         Layer Cake|   Matthew Vaughn|Daniel Craig, Col...|Independent|United Kingdom|      United Kingdom|13/05/2021|   May 13, 2021|        2004|     R| 105 min|Independent Movie...|null|       /05/|      2021|\n",
      "+-------+-----+-------------------+-----------------+--------------------+-----------+--------------+--------------------+----------+---------------+------------+------+--------+--------------------+----+-----------+----------+\n",
      "only showing top 5 rows\n",
      "\n"
     ]
    }
   ],
   "source": [
    "df.show(5)"
   ]
  },
  {
   "cell_type": "code",
   "execution_count": 101,
   "metadata": {},
   "outputs": [
    {
     "name": "stdout",
     "output_type": "stream",
     "text": [
      "+--------------+-------------+\n",
      "| country_split|release_count|\n",
      "+--------------+-------------+\n",
      "| United States|         3197|\n",
      "|         India|         1008|\n",
      "|          null|          832|\n",
      "|United Kingdom|          628|\n",
      "|        Canada|          271|\n",
      "|         Japan|          259|\n",
      "|        France|          211|\n",
      "|   South Korea|          211|\n",
      "|         Spain|          179|\n",
      "|        Mexico|          134|\n",
      "|     Australia|          117|\n",
      "|         Egypt|          112|\n",
      "|        Turkey|          111|\n",
      "|       Germany|          103|\n",
      "|         China|          100|\n",
      "|       Nigeria|           94|\n",
      "|        Taiwan|           85|\n",
      "|     Indonesia|           85|\n",
      "|        Brazil|           84|\n",
      "|   Philippines|           80|\n",
      "+--------------+-------------+\n",
      "only showing top 20 rows\n",
      "\n"
     ]
    }
   ],
   "source": [
    "# Country VS Release Year\n",
    "from pyspark.sql.functions import count, col, desc\n",
    "\n",
    "df.groupBy(\"country_split\") \\\n",
    "  .agg(count(\"release_year\").alias(\"release_count\")) \\\n",
    "  .sort(desc(\"release_count\")) \\\n",
    "  .show()"
   ]
  },
  {
   "cell_type": "code",
   "execution_count": 102,
   "metadata": {},
   "outputs": [
    {
     "name": "stdout",
     "output_type": "stream",
     "text": [
      "+--------------+-------------+\n",
      "| country_split|release_count|\n",
      "+--------------+-------------+\n",
      "| United States|          845|\n",
      "|          null|          392|\n",
      "|United Kingdom|          246|\n",
      "|         Japan|          174|\n",
      "|   South Korea|          164|\n",
      "|        Canada|           84|\n",
      "|         India|           81|\n",
      "|        Taiwan|           70|\n",
      "|        France|           64|\n",
      "|     Australia|           56|\n",
      "|         Spain|           52|\n",
      "|        Mexico|           48|\n",
      "|         China|           41|\n",
      "|        Turkey|           30|\n",
      "|        Brazil|           28|\n",
      "|       Germany|           25|\n",
      "|      Colombia|           25|\n",
      "|      Thailand|           24|\n",
      "|     Argentina|           20|\n",
      "|         Italy|           19|\n",
      "+--------------+-------------+\n",
      "only showing top 20 rows\n",
      "\n"
     ]
    }
   ],
   "source": [
    "# Country VS Type : TV Show\n",
    "from pyspark.sql.functions import count, col, desc\n",
    "\n",
    "df.filter(col(\"type\") ==\"TV Show\") \\\n",
    "  .groupBy(\"country_split\") \\\n",
    "  .agg(count(\"release_year\").alias(\"release_count\")) \\\n",
    "  .sort(desc(\"release_count\")) \\\n",
    "  .show()\n",
    "\n"
   ]
  },
  {
   "cell_type": "code",
   "execution_count": 103,
   "metadata": {},
   "outputs": [
    {
     "name": "stdout",
     "output_type": "stream",
     "text": [
      "+--------------+-------------+\n",
      "| country_split|release_count|\n",
      "+--------------+-------------+\n",
      "| United States|         2352|\n",
      "|         India|          927|\n",
      "|          null|          440|\n",
      "|United Kingdom|          382|\n",
      "|        Canada|          187|\n",
      "|        France|          147|\n",
      "|         Spain|          127|\n",
      "|         Egypt|           98|\n",
      "|        Mexico|           86|\n",
      "|       Nigeria|           86|\n",
      "|         Japan|           85|\n",
      "|     Indonesia|           83|\n",
      "|        Turkey|           81|\n",
      "|       Germany|           78|\n",
      "|   Philippines|           77|\n",
      "|     Hong Kong|           76|\n",
      "|     Australia|           61|\n",
      "|         China|           59|\n",
      "|     Argentina|           56|\n",
      "|        Brazil|           56|\n",
      "+--------------+-------------+\n",
      "only showing top 20 rows\n",
      "\n"
     ]
    }
   ],
   "source": [
    "# Country VS Type : Movie\n",
    "from pyspark.sql.functions import count, col, desc\n",
    "\n",
    "df.filter(col(\"type\") ==\"Movie\") \\\n",
    "  .groupBy(\"country_split\") \\\n",
    "  .agg(count(\"release_year\").alias(\"release_count\")) \\\n",
    "  .sort(desc(\"release_count\")) \\\n",
    "  .show()"
   ]
  },
  {
   "cell_type": "code",
   "execution_count": 104,
   "metadata": {},
   "outputs": [
    {
     "name": "stdout",
     "output_type": "stream",
     "text": [
      "+----------------+----------+\n",
      "|          rating|type_count|\n",
      "+----------------+----------+\n",
      "|           TV-MA|      3195|\n",
      "|           TV-14|      2158|\n",
      "|           TV-PG|       862|\n",
      "|               R|       796|\n",
      "|           PG-13|       489|\n",
      "|           TV-Y7|       334|\n",
      "|            TV-Y|       307|\n",
      "|              PG|       286|\n",
      "|            TV-G|       220|\n",
      "|              NR|        80|\n",
      "|               G|        41|\n",
      "|        TV-Y7-FV|         6|\n",
      "|            null|         5|\n",
      "|   United States|         5|\n",
      "|              UR|         3|\n",
      "|           NC-17|         3|\n",
      "|            2021|         2|\n",
      "|  Alicia Sánchez|         2|\n",
      "|November 1, 2020|         1|\n",
      "|            2017|         1|\n",
      "+----------------+----------+\n",
      "only showing top 20 rows\n",
      "\n"
     ]
    }
   ],
   "source": [
    "# Rating VS Type\n",
    "from pyspark.sql.functions import count, col, desc\n",
    "\n",
    "df.groupBy(\"rating\") \\\n",
    "  .agg(count(\"type\").alias(\"type_count\")) \\\n",
    "  .sort(desc(\"type_count\")) \\\n",
    "  .show()"
   ]
  },
  {
   "cell_type": "code",
   "execution_count": 105,
   "metadata": {},
   "outputs": [
    {
     "name": "stdout",
     "output_type": "stream",
     "text": [
      "+-------+----------+----------+\n",
      "|   type|year_added|type_count|\n",
      "+-------+----------+----------+\n",
      "|  Movie|      2019|      1423|\n",
      "|  Movie|      2020|      1279|\n",
      "|  Movie|      2018|      1235|\n",
      "|  Movie|      2021|       987|\n",
      "|  Movie|      2017|       837|\n",
      "|TV Show|      2020|       594|\n",
      "|TV Show|      2019|       591|\n",
      "|TV Show|      2021|       504|\n",
      "|TV Show|      2018|       412|\n",
      "|TV Show|      2017|       349|\n",
      "|  Movie|      2016|       253|\n",
      "|TV Show|      2016|       176|\n",
      "|  Movie|      2015|        55|\n",
      "|TV Show|      2015|        26|\n",
      "|  Movie|      2014|        19|\n",
      "|  Movie|      2011|        13|\n",
      "|  Movie|      2013|         6|\n",
      "|TV Show|      2013|         5|\n",
      "|TV Show|      2014|         5|\n",
      "|  Movie|      2012|         3|\n",
      "+-------+----------+----------+\n",
      "only showing top 20 rows\n",
      "\n"
     ]
    }
   ],
   "source": [
    "# showing the trends from the year 2008-2021\n",
    "\n",
    "from pyspark.sql.functions import count, col, desc\n",
    "\n",
    "df.groupBy(\"type\",\"year_added\") \\\n",
    "  .agg(count(\"type\").alias(\"type_count\")) \\\n",
    "  .filter(col(\"year_added\") >=2008) \\\n",
    "  .sort(desc(\"type_count\")) \\\n",
    "  .show()"
   ]
  },
  {
   "cell_type": "code",
   "execution_count": 108,
   "metadata": {},
   "outputs": [
    {
     "name": "stdout",
     "output_type": "stream",
     "text": [
      "+-------------+-----+\n",
      "|         type|count|\n",
      "+-------------+-----+\n",
      "|        Movie| 6131|\n",
      "|      TV Show| 2676|\n",
      "|William Wyler|    1|\n",
      "+-------------+-----+\n",
      "\n"
     ]
    }
   ],
   "source": [
    "# The difference in # of times added between TV-Show and Movie plot:\n",
    "df.groupBy('type').count().sort('count', ascending=False).show()"
   ]
  },
  {
   "cell_type": "code",
   "execution_count": 109,
   "metadata": {},
   "outputs": [
    {
     "name": "stdout",
     "output_type": "stream",
     "text": [
      "+------+----------+----------+\n",
      "|rating|year_added|type_count|\n",
      "+------+----------+----------+\n",
      "| TV-MA|      2019|       734|\n",
      "| TV-MA|      2020|       668|\n",
      "| TV-MA|      2018|       648|\n",
      "| TV-14|      2019|       494|\n",
      "| TV-MA|      2021|       486|\n",
      "| TV-14|      2018|       451|\n",
      "| TV-MA|      2017|       445|\n",
      "| TV-14|      2020|       438|\n",
      "| TV-14|      2017|       326|\n",
      "| TV-14|      2021|       325|\n",
      "|     R|      2019|       208|\n",
      "| TV-PG|      2019|       198|\n",
      "|     R|      2021|       188|\n",
      "|     R|      2020|       187|\n",
      "| TV-PG|      2018|       184|\n",
      "| TV-PG|      2017|       167|\n",
      "| TV-PG|      2020|       146|\n",
      "| PG-13|      2021|       145|\n",
      "| PG-13|      2019|       135|\n",
      "|     R|      2018|       129|\n",
      "+------+----------+----------+\n",
      "only showing top 20 rows\n",
      "\n"
     ]
    }
   ],
   "source": [
    "# Top rating from the last 5 years\n",
    "df.filter(col(\"year_added\") >=2017) \\\n",
    "  .groupBy(\"rating\", \"year_added\") \\\n",
    "  .agg(count(\"type\").alias(\"type_count\")) \\\n",
    "  .sort(desc(\"type_count\")) \\\n",
    "  .show()"
   ]
  },
  {
   "cell_type": "code",
   "execution_count": 110,
   "metadata": {},
   "outputs": [
    {
     "name": "stdout",
     "output_type": "stream",
     "text": [
      "+-------------+-----------+\n",
      "|        Genre|title_count|\n",
      "+-------------+-----------+\n",
      "|       Dramas|       1595|\n",
      "|     Comedies|       1206|\n",
      "|International|        900|\n",
      "|       Action|        857|\n",
      "|Documentaries|        827|\n",
      "|     Children|        605|\n",
      "|        Crime|        398|\n",
      "|        Kids'|        388|\n",
      "|     Stand-Up|        368|\n",
      "|       Horror|        275|\n",
      "|           TV|        254|\n",
      "|      British|        253|\n",
      "|   Docuseries|        221|\n",
      "|        Anime|        197|\n",
      "|      Reality|        119|\n",
      "|      Classic|        101|\n",
      "|    Thrillers|         65|\n",
      "|       Movies|         56|\n",
      "|     Romantic|         35|\n",
      "|  Independent|         20|\n",
      "+-------------+-----------+\n",
      "only showing top 20 rows\n",
      "\n"
     ]
    }
   ],
   "source": [
    "# To find top genres:\n",
    "df.groupBy(\"Genre\") \\\n",
    "  .agg(count(\"title\").alias(\"title_count\")) \\\n",
    "  .sort(desc(\"title_count\")) \\\n",
    "  .show()"
   ]
  },
  {
   "cell_type": "code",
   "execution_count": 111,
   "metadata": {},
   "outputs": [
    {
     "name": "stdout",
     "output_type": "stream",
     "text": [
      "+-------------+----------+-----------+\n",
      "|        Genre|year_added|title_count|\n",
      "+-------------+----------+-----------+\n",
      "|       Dramas|      2019|        364|\n",
      "|       Dramas|      2018|        351|\n",
      "|       Dramas|      2020|        346|\n",
      "|     Comedies|      2020|        300|\n",
      "|     Comedies|      2019|        286|\n",
      "|       Dramas|      2021|        260|\n",
      "|     Comedies|      2018|        243|\n",
      "|International|      2019|        218|\n",
      "|       Action|      2019|        202|\n",
      "|     Comedies|      2021|        201|\n",
      "|       Dramas|      2017|        200|\n",
      "|       Action|      2021|        195|\n",
      "|International|      2020|        189|\n",
      "|Documentaries|      2017|        187|\n",
      "|Documentaries|      2019|        186|\n",
      "|       Action|      2018|        173|\n",
      "|       Action|      2020|        169|\n",
      "|Documentaries|      2018|        163|\n",
      "|     Children|      2020|        158|\n",
      "|International|      2017|        155|\n",
      "+-------------+----------+-----------+\n",
      "only showing top 20 rows\n",
      "\n"
     ]
    }
   ],
   "source": [
    "# Top Genres from the last 5 years\n",
    "df.filter(col(\"year_added\") >=2017) \\\n",
    "  .groupBy(\"Genre\", \"year_added\") \\\n",
    "  .agg(count(\"title\").alias(\"title_count\")) \\\n",
    "  .sort(desc(\"title_count\")) \\\n",
    "  .show()"
   ]
  },
  {
   "cell_type": "code",
   "execution_count": 112,
   "metadata": {},
   "outputs": [
    {
     "name": "stdout",
     "output_type": "stream",
     "text": [
      "+------------+-------+-------------+\n",
      "|release_year|   type|release_count|\n",
      "+------------+-------+-------------+\n",
      "|        2018|  Movie|          765|\n",
      "|        2017|  Movie|          765|\n",
      "|        2016|  Movie|          657|\n",
      "|        2019|  Movie|          630|\n",
      "|        2020|  Movie|          516|\n",
      "|        2020|TV Show|          436|\n",
      "|        2015|  Movie|          397|\n",
      "|        2019|TV Show|          396|\n",
      "|        2018|TV Show|          380|\n",
      "|        2021|TV Show|          314|\n",
      "|        2021|  Movie|          275|\n",
      "|        2017|TV Show|          265|\n",
      "|        2014|  Movie|          264|\n",
      "|        2016|TV Show|          244|\n",
      "|        2013|  Movie|          225|\n",
      "|        2012|  Movie|          173|\n",
      "|        2015|TV Show|          162|\n",
      "|        2010|  Movie|          153|\n",
      "|        2011|  Movie|          145|\n",
      "|        2009|  Movie|          118|\n",
      "+------------+-------+-------------+\n",
      "only showing top 20 rows\n",
      "\n"
     ]
    }
   ],
   "source": [
    "# Type VS Release Year\n",
    "from pyspark.sql.functions import count, col, desc\n",
    "\n",
    "df.groupBy(\"release_year\",\"type\") \\\n",
    "  .agg(count(\"release_year\").alias(\"release_count\")) \\\n",
    "  .sort(desc(\"release_count\")) \\\n",
    "  .show()"
   ]
  },
  {
   "cell_type": "code",
   "execution_count": 113,
   "metadata": {},
   "outputs": [
    {
     "name": "stdout",
     "output_type": "stream",
     "text": [
      "+--------------------+-----------+\n",
      "|            director|title_count|\n",
      "+--------------------+-----------+\n",
      "|       Rajiv Chilaka|         19|\n",
      "|Raúl Campos, Jan ...|         18|\n",
      "|         Suhas Kadav|         16|\n",
      "|        Marcus Raboy|         16|\n",
      "|           Jay Karas|         14|\n",
      "| Cathy Garcia-Molina|         13|\n",
      "|         Jay Chapman|         12|\n",
      "|     Youssef Chahine|         12|\n",
      "|     Martin Scorsese|         12|\n",
      "|    Steven Spielberg|         11|\n",
      "+--------------------+-----------+\n",
      "only showing top 10 rows\n",
      "\n"
     ]
    }
   ],
   "source": [
    "# find top 10 directors over-all excluding director \"N/A\" \n",
    "\n",
    "df.filter(col(\"director\") != \"N/A\") \\\n",
    "    .groupBy(\"director\") \\\n",
    "    .agg(count(\"title\").alias(\"title_count\")) \\\n",
    "    .sort(desc(\"title_count\")) \\\n",
    "    .show(10)\n",
    "\n"
   ]
  },
  {
   "cell_type": "code",
   "execution_count": 114,
   "metadata": {},
   "outputs": [
    {
     "name": "stdout",
     "output_type": "stream",
     "text": [
      "+--------------------+-----------+\n",
      "|                cast|title_count|\n",
      "+--------------------+-----------+\n",
      "|  David Attenborough|         19|\n",
      "|Vatsal Dubey, Jul...|         14|\n",
      "|         Samuel West|         10|\n",
      "|         Jeff Dunham|          7|\n",
      "|Michela Luci, Jam...|          6|\n",
      "|          Kevin Hart|          6|\n",
      "|       Craig Sechler|          6|\n",
      "|David Spade, Lond...|          6|\n",
      "|    Iliza Shlesinger|          5|\n",
      "|        Jim Gaffigan|          5|\n",
      "+--------------------+-----------+\n",
      "only showing top 10 rows\n",
      "\n"
     ]
    }
   ],
   "source": [
    "# find top cast members over-all excluding \"N/A\"\n",
    "df.filter(col(\"cast\") != \"N/A\") \\\n",
    "    .groupBy(\"cast\") \\\n",
    "    .agg(count(\"title\").alias(\"title_count\")) \\\n",
    "    .sort(desc(\"title_count\")) \\\n",
    "    .show(10)\n"
   ]
  },
  {
   "cell_type": "code",
   "execution_count": 115,
   "metadata": {},
   "outputs": [
    {
     "name": "stdout",
     "output_type": "stream",
     "text": [
      "+-------+-------------+-----------+\n",
      "|   type|        genre|title_count|\n",
      "+-------+-------------+-----------+\n",
      "|  Movie|       Dramas|       1595|\n",
      "|  Movie|     Comedies|       1206|\n",
      "|  Movie|       Action|        857|\n",
      "|  Movie|Documentaries|        827|\n",
      "|TV Show|International|        774|\n",
      "|  Movie|     Children|        605|\n",
      "|TV Show|        Crime|        398|\n",
      "|TV Show|        Kids'|        388|\n",
      "|  Movie|     Stand-Up|        334|\n",
      "|  Movie|       Horror|        275|\n",
      "|TV Show|           TV|        254|\n",
      "|TV Show|      British|        253|\n",
      "|TV Show|   Docuseries|        221|\n",
      "|TV Show|        Anime|        176|\n",
      "|  Movie|International|        126|\n",
      "|TV Show|      Reality|        119|\n",
      "|  Movie|      Classic|         79|\n",
      "|  Movie|    Thrillers|         65|\n",
      "|  Movie|       Movies|         56|\n",
      "|TV Show|     Stand-Up|         34|\n",
      "+-------+-------------+-----------+\n",
      "only showing top 20 rows\n",
      "\n"
     ]
    }
   ],
   "source": [
    "# find top genres for tv shows and movies\n",
    "df.groupBy(\"type\",\"genre\") \\\n",
    "    .agg(count(\"title\").alias(\"title_count\")) \\\n",
    "    .sort(desc(\"title_count\")) \\\n",
    "    .show(20)\n"
   ]
  },
  {
   "cell_type": "code",
   "execution_count": 206,
   "metadata": {},
   "outputs": [],
   "source": [
    "# Machine Learning"
   ]
  },
  {
   "cell_type": "code",
   "execution_count": 116,
   "metadata": {},
   "outputs": [
    {
     "name": "stdout",
     "output_type": "stream",
     "text": [
      "root\n",
      " |-- show_id: string (nullable = true)\n",
      " |-- type: string (nullable = true)\n",
      " |-- title: string (nullable = true)\n",
      " |-- director: string (nullable = true)\n",
      " |-- cast: string (nullable = true)\n",
      " |-- Genre: string (nullable = true)\n",
      " |-- country_split: string (nullable = true)\n",
      " |-- country: string (nullable = true)\n",
      " |-- date: string (nullable = true)\n",
      " |-- date_added: string (nullable = true)\n",
      " |-- release_year: string (nullable = true)\n",
      " |-- rating: string (nullable = true)\n",
      " |-- duration: string (nullable = true)\n",
      " |-- listed_in: string (nullable = true)\n",
      " |-- _c14: string (nullable = true)\n",
      "\n"
     ]
    }
   ],
   "source": [
    "from pyspark.sql import SparkSession\n",
    "spark = SparkSession.builder.appName('ml-netflix').getOrCreate()\n",
    "df = spark.read.csv('C:/Users/anjun/.vscode/netflix_titles.csv', header = True, inferSchema = True)\n",
    "df.printSchema()"
   ]
  },
  {
   "cell_type": "code",
   "execution_count": 117,
   "metadata": {},
   "outputs": [],
   "source": [
    "# convert the release_year to integer\n",
    "df = df.withColumn(\"release_year\", df[\"release_year\"].cast(\"integer\"))\n",
    "df= df.withColumn(\"show_id\", df[\"show_id\"].cast(\"integer\"))"
   ]
  },
  {
   "cell_type": "code",
   "execution_count": 118,
   "metadata": {},
   "outputs": [],
   "source": [
    "df = df.na.drop(subset=['country', 'country_split', 'listed_in', 'director', 'cast', 'Genre', 'release_year', 'type', 'title', 'date', 'rating','duration'])"
   ]
  },
  {
   "cell_type": "code",
   "execution_count": 119,
   "metadata": {},
   "outputs": [
    {
     "name": "stdout",
     "output_type": "stream",
     "text": [
      "root\n",
      " |-- show_id: integer (nullable = true)\n",
      " |-- type: string (nullable = true)\n",
      " |-- title: string (nullable = true)\n",
      " |-- director: string (nullable = true)\n",
      " |-- cast: string (nullable = true)\n",
      " |-- Genre: string (nullable = true)\n",
      " |-- country_split: string (nullable = true)\n",
      " |-- country: string (nullable = true)\n",
      " |-- date: string (nullable = true)\n",
      " |-- date_added: string (nullable = true)\n",
      " |-- release_year: integer (nullable = true)\n",
      " |-- rating: string (nullable = true)\n",
      " |-- duration: string (nullable = true)\n",
      " |-- listed_in: string (nullable = true)\n",
      " |-- _c14: string (nullable = true)\n",
      "\n"
     ]
    }
   ],
   "source": [
    "#print schema\n",
    "df.printSchema()"
   ]
  },
  {
   "cell_type": "code",
   "execution_count": 120,
   "metadata": {},
   "outputs": [
    {
     "data": {
      "text/html": [
       "<div>\n",
       "<style scoped>\n",
       "    .dataframe tbody tr th:only-of-type {\n",
       "        vertical-align: middle;\n",
       "    }\n",
       "\n",
       "    .dataframe tbody tr th {\n",
       "        vertical-align: top;\n",
       "    }\n",
       "\n",
       "    .dataframe thead th {\n",
       "        text-align: right;\n",
       "    }\n",
       "</style>\n",
       "<table border=\"1\" class=\"dataframe\">\n",
       "  <thead>\n",
       "    <tr style=\"text-align: right;\">\n",
       "      <th></th>\n",
       "      <th>0</th>\n",
       "      <th>1</th>\n",
       "      <th>2</th>\n",
       "      <th>3</th>\n",
       "      <th>4</th>\n",
       "    </tr>\n",
       "  </thead>\n",
       "  <tbody>\n",
       "    <tr>\n",
       "      <th>show_id</th>\n",
       "      <td>8</td>\n",
       "      <td>9</td>\n",
       "      <td>10</td>\n",
       "      <td>13</td>\n",
       "      <td>25</td>\n",
       "    </tr>\n",
       "    <tr>\n",
       "      <th>type</th>\n",
       "      <td>Movie</td>\n",
       "      <td>TV Show</td>\n",
       "      <td>Movie</td>\n",
       "      <td>Movie</td>\n",
       "      <td>Movie</td>\n",
       "    </tr>\n",
       "    <tr>\n",
       "      <th>title</th>\n",
       "      <td>Sankofa</td>\n",
       "      <td>The Great British Baking Show</td>\n",
       "      <td>The Starling</td>\n",
       "      <td>Je Suis Karl</td>\n",
       "      <td>Jeans</td>\n",
       "    </tr>\n",
       "    <tr>\n",
       "      <th>director</th>\n",
       "      <td>Haile Gerima</td>\n",
       "      <td>Andy Devonshire</td>\n",
       "      <td>Theodore Melfi</td>\n",
       "      <td>Christian Schwochow</td>\n",
       "      <td>S. Shankar</td>\n",
       "    </tr>\n",
       "    <tr>\n",
       "      <th>cast</th>\n",
       "      <td>Kofi Ghanaba, Oyafunmike Ogunlano, Alexandra D...</td>\n",
       "      <td>Mel Giedroyc, Sue Perkins, Mary Berry, Paul Ho...</td>\n",
       "      <td>Melissa McCarthy, Chris O'Dowd, Kevin Kline, T...</td>\n",
       "      <td>Luna Wedler, Jannis Niewöhner, Milan Peschel, ...</td>\n",
       "      <td>Prashanth, Aishwarya Rai Bachchan, Sri Lakshmi...</td>\n",
       "    </tr>\n",
       "    <tr>\n",
       "      <th>Genre</th>\n",
       "      <td>Dramas</td>\n",
       "      <td>British</td>\n",
       "      <td>Comedies</td>\n",
       "      <td>Dramas</td>\n",
       "      <td>Comedies</td>\n",
       "    </tr>\n",
       "    <tr>\n",
       "      <th>country_split</th>\n",
       "      <td>United States</td>\n",
       "      <td>United Kingdom</td>\n",
       "      <td>United States</td>\n",
       "      <td>Germany</td>\n",
       "      <td>India</td>\n",
       "    </tr>\n",
       "    <tr>\n",
       "      <th>country</th>\n",
       "      <td>United States, Ghana, Burkina Faso, United Kin...</td>\n",
       "      <td>United Kingdom</td>\n",
       "      <td>United States</td>\n",
       "      <td>Germany, Czech Republic</td>\n",
       "      <td>India</td>\n",
       "    </tr>\n",
       "    <tr>\n",
       "      <th>date</th>\n",
       "      <td>24/09/2021</td>\n",
       "      <td>24/09/2021</td>\n",
       "      <td>24/09/2021</td>\n",
       "      <td>23/09/2021</td>\n",
       "      <td>21/09/2021</td>\n",
       "    </tr>\n",
       "    <tr>\n",
       "      <th>date_added</th>\n",
       "      <td>September 24, 2021</td>\n",
       "      <td>September 24, 2021</td>\n",
       "      <td>September 24, 2021</td>\n",
       "      <td>September 23, 2021</td>\n",
       "      <td>September 21, 2021</td>\n",
       "    </tr>\n",
       "    <tr>\n",
       "      <th>release_year</th>\n",
       "      <td>1993</td>\n",
       "      <td>2021</td>\n",
       "      <td>2021</td>\n",
       "      <td>2021</td>\n",
       "      <td>1998</td>\n",
       "    </tr>\n",
       "    <tr>\n",
       "      <th>rating</th>\n",
       "      <td>TV-MA</td>\n",
       "      <td>TV-14</td>\n",
       "      <td>PG-13</td>\n",
       "      <td>TV-MA</td>\n",
       "      <td>TV-14</td>\n",
       "    </tr>\n",
       "    <tr>\n",
       "      <th>duration</th>\n",
       "      <td>125 min</td>\n",
       "      <td>9 Seasons</td>\n",
       "      <td>104 min</td>\n",
       "      <td>127 min</td>\n",
       "      <td>166 min</td>\n",
       "    </tr>\n",
       "    <tr>\n",
       "      <th>listed_in</th>\n",
       "      <td>Dramas, Independent Movies, International Movies</td>\n",
       "      <td>British TV Shows, Reality TV</td>\n",
       "      <td>Comedies, Dramas</td>\n",
       "      <td>Dramas, International Movies</td>\n",
       "      <td>Comedies, International Movies, Romantic Movies</td>\n",
       "    </tr>\n",
       "    <tr>\n",
       "      <th>_c14</th>\n",
       "      <td>None</td>\n",
       "      <td>None</td>\n",
       "      <td>None</td>\n",
       "      <td>None</td>\n",
       "      <td>None</td>\n",
       "    </tr>\n",
       "  </tbody>\n",
       "</table>\n",
       "</div>"
      ],
      "text/plain": [
       "                                                               0  \\\n",
       "show_id                                                        8   \n",
       "type                                                       Movie   \n",
       "title                                                    Sankofa   \n",
       "director                                            Haile Gerima   \n",
       "cast           Kofi Ghanaba, Oyafunmike Ogunlano, Alexandra D...   \n",
       "Genre                                                     Dramas   \n",
       "country_split                                      United States   \n",
       "country        United States, Ghana, Burkina Faso, United Kin...   \n",
       "date                                                  24/09/2021   \n",
       "date_added                                    September 24, 2021   \n",
       "release_year                                                1993   \n",
       "rating                                                     TV-MA   \n",
       "duration                                                 125 min   \n",
       "listed_in       Dramas, Independent Movies, International Movies   \n",
       "_c14                                                        None   \n",
       "\n",
       "                                                               1  \\\n",
       "show_id                                                        9   \n",
       "type                                                     TV Show   \n",
       "title                              The Great British Baking Show   \n",
       "director                                         Andy Devonshire   \n",
       "cast           Mel Giedroyc, Sue Perkins, Mary Berry, Paul Ho...   \n",
       "Genre                                                    British   \n",
       "country_split                                     United Kingdom   \n",
       "country                                           United Kingdom   \n",
       "date                                                  24/09/2021   \n",
       "date_added                                    September 24, 2021   \n",
       "release_year                                                2021   \n",
       "rating                                                     TV-14   \n",
       "duration                                               9 Seasons   \n",
       "listed_in                           British TV Shows, Reality TV   \n",
       "_c14                                                        None   \n",
       "\n",
       "                                                               2  \\\n",
       "show_id                                                       10   \n",
       "type                                                       Movie   \n",
       "title                                               The Starling   \n",
       "director                                          Theodore Melfi   \n",
       "cast           Melissa McCarthy, Chris O'Dowd, Kevin Kline, T...   \n",
       "Genre                                                   Comedies   \n",
       "country_split                                      United States   \n",
       "country                                            United States   \n",
       "date                                                  24/09/2021   \n",
       "date_added                                    September 24, 2021   \n",
       "release_year                                                2021   \n",
       "rating                                                     PG-13   \n",
       "duration                                                 104 min   \n",
       "listed_in                                       Comedies, Dramas   \n",
       "_c14                                                        None   \n",
       "\n",
       "                                                               3  \\\n",
       "show_id                                                       13   \n",
       "type                                                       Movie   \n",
       "title                                               Je Suis Karl   \n",
       "director                                     Christian Schwochow   \n",
       "cast           Luna Wedler, Jannis Niewöhner, Milan Peschel, ...   \n",
       "Genre                                                     Dramas   \n",
       "country_split                                            Germany   \n",
       "country                                  Germany, Czech Republic   \n",
       "date                                                  23/09/2021   \n",
       "date_added                                    September 23, 2021   \n",
       "release_year                                                2021   \n",
       "rating                                                     TV-MA   \n",
       "duration                                                 127 min   \n",
       "listed_in                           Dramas, International Movies   \n",
       "_c14                                                        None   \n",
       "\n",
       "                                                               4  \n",
       "show_id                                                       25  \n",
       "type                                                       Movie  \n",
       "title                                                      Jeans  \n",
       "director                                              S. Shankar  \n",
       "cast           Prashanth, Aishwarya Rai Bachchan, Sri Lakshmi...  \n",
       "Genre                                                   Comedies  \n",
       "country_split                                              India  \n",
       "country                                                    India  \n",
       "date                                                  21/09/2021  \n",
       "date_added                                    September 21, 2021  \n",
       "release_year                                                1998  \n",
       "rating                                                     TV-14  \n",
       "duration                                                 166 min  \n",
       "listed_in        Comedies, International Movies, Romantic Movies  \n",
       "_c14                                                        None  "
      ]
     },
     "execution_count": 120,
     "metadata": {},
     "output_type": "execute_result"
    }
   ],
   "source": [
    "import pandas as pd\n",
    "pd.DataFrame(df.take(5), columns=df.columns).transpose()"
   ]
  },
  {
   "cell_type": "code",
   "execution_count": 121,
   "metadata": {},
   "outputs": [
    {
     "data": {
      "text/html": [
       "<div>\n",
       "<style scoped>\n",
       "    .dataframe tbody tr th:only-of-type {\n",
       "        vertical-align: middle;\n",
       "    }\n",
       "\n",
       "    .dataframe tbody tr th {\n",
       "        vertical-align: top;\n",
       "    }\n",
       "\n",
       "    .dataframe thead th {\n",
       "        text-align: right;\n",
       "    }\n",
       "</style>\n",
       "<table border=\"1\" class=\"dataframe\">\n",
       "  <thead>\n",
       "    <tr style=\"text-align: right;\">\n",
       "      <th></th>\n",
       "      <th>0</th>\n",
       "      <th>1</th>\n",
       "      <th>2</th>\n",
       "      <th>3</th>\n",
       "      <th>4</th>\n",
       "    </tr>\n",
       "  </thead>\n",
       "  <tbody>\n",
       "    <tr>\n",
       "      <th>summary</th>\n",
       "      <td>count</td>\n",
       "      <td>mean</td>\n",
       "      <td>stddev</td>\n",
       "      <td>min</td>\n",
       "      <td>max</td>\n",
       "    </tr>\n",
       "    <tr>\n",
       "      <th>show_id</th>\n",
       "      <td>5315</td>\n",
       "      <td>4712.540169332079</td>\n",
       "      <td>2527.184896624373</td>\n",
       "      <td>8</td>\n",
       "      <td>8807</td>\n",
       "    </tr>\n",
       "    <tr>\n",
       "      <th>release_year</th>\n",
       "      <td>5315</td>\n",
       "      <td>2012.7405456255879</td>\n",
       "      <td>9.62618211381797</td>\n",
       "      <td>1942</td>\n",
       "      <td>2021</td>\n",
       "    </tr>\n",
       "  </tbody>\n",
       "</table>\n",
       "</div>"
      ],
      "text/plain": [
       "                  0                   1                  2     3     4\n",
       "summary       count                mean             stddev   min   max\n",
       "show_id        5315   4712.540169332079  2527.184896624373     8  8807\n",
       "release_year   5315  2012.7405456255879   9.62618211381797  1942  2021"
      ]
     },
     "execution_count": 121,
     "metadata": {},
     "output_type": "execute_result"
    }
   ],
   "source": [
    "numeric_features = [t[0] for t in df.dtypes if t[1] == 'int']\n",
    "df.select(numeric_features).describe().toPandas().transpose()"
   ]
  },
  {
   "cell_type": "code",
   "execution_count": 122,
   "metadata": {},
   "outputs": [
    {
     "data": {
      "image/png": "[encoded data removed]",
      "text/plain": [
       "<Figure size 576x576 with 4 Axes>"
      ]
     },
     "metadata": {
      "needs_background": "light"
     },
     "output_type": "display_data"
    }
   ],
   "source": [
    "numeric_data = df.select(numeric_features).toPandas()\n",
    "axs = pd.plotting.scatter_matrix(numeric_data, figsize=(8, 8));\n",
    "n = len(numeric_data.columns)\n",
    "for i in range(n):\n",
    "    v = axs[i, 0]\n",
    "    v.yaxis.label.set_rotation(0)\n",
    "    v.yaxis.label.set_ha('right')\n",
    "    v.set_yticks(())\n",
    "    h = axs[n-1, i]\n",
    "    h.xaxis.label.set_rotation(90)\n",
    "    h.set_xticks(())"
   ]
  },
  {
   "cell_type": "code",
   "execution_count": 123,
   "metadata": {},
   "outputs": [
    {
     "name": "stdout",
     "output_type": "stream",
     "text": [
      "root\n",
      " |-- show_id: integer (nullable = true)\n",
      " |-- type: string (nullable = true)\n",
      " |-- title: string (nullable = true)\n",
      " |-- director: string (nullable = true)\n",
      " |-- cast: string (nullable = true)\n",
      " |-- Genre: string (nullable = true)\n",
      " |-- country_split: string (nullable = true)\n",
      " |-- country: string (nullable = true)\n",
      " |-- date: string (nullable = true)\n",
      " |-- date_added: string (nullable = true)\n",
      " |-- release_year: integer (nullable = true)\n",
      " |-- rating: string (nullable = true)\n",
      " |-- duration: string (nullable = true)\n",
      " |-- listed_in: string (nullable = true)\n",
      "\n"
     ]
    }
   ],
   "source": [
    "df = df.select('show_id', 'type', 'title', 'director', 'cast', 'Genre', 'country_split', 'country', 'date', 'date_added', 'release_year', 'rating', 'duration', 'listed_in')\n",
    "cols = df.columns\n",
    "df.printSchema()"
   ]
  },
  {
   "cell_type": "code",
   "execution_count": 124,
   "metadata": {},
   "outputs": [],
   "source": [
    "# replace null values with \"N/A\"\n",
    "df = df.na.fill({'country': 'N/A', 'country_split': 'N/A', 'listed_in': 'N/A', 'director': 'N/A', 'cast': 'N/A', 'Genre': 'N/A'})"
   ]
  },
  {
   "cell_type": "code",
   "execution_count": 125,
   "metadata": {},
   "outputs": [],
   "source": [
    "from pyspark.ml.feature import OneHotEncoder, StringIndexer, VectorAssembler"
   ]
  },
  {
   "cell_type": "code",
   "execution_count": 126,
   "metadata": {},
   "outputs": [],
   "source": [
    "categoricalColumns = ['type', 'title', 'director', 'cast', 'country_split', 'date', 'rating', 'listed_in']\n",
    "stages = []"
   ]
  },
  {
   "cell_type": "code",
   "execution_count": 127,
   "metadata": {},
   "outputs": [],
   "source": [
    "for categoricalCol in categoricalColumns:\n",
    "    stringIndexer = StringIndexer(inputCol = categoricalCol, outputCol = categoricalCol + 'Index')\n",
    "    encoder = OneHotEncoder(inputCols=[stringIndexer.getOutputCol()], outputCols=[categoricalCol + \"classVec\"])\n",
    "    stages += [stringIndexer, encoder]"
   ]
  },
  {
   "cell_type": "code",
   "execution_count": 128,
   "metadata": {},
   "outputs": [],
   "source": [
    "label_stringIdx = StringIndexer(inputCol = 'Genre', outputCol = 'label')\n",
    "stages += [label_stringIdx]"
   ]
  },
  {
   "cell_type": "code",
   "execution_count": 129,
   "metadata": {},
   "outputs": [],
   "source": [
    "numericCols = ['show_id', 'release_year']\n",
    "assemblerInputs = [c + \"classVec\" for c in categoricalColumns] + numericCols\n",
    "assembler = VectorAssembler(inputCols=assemblerInputs, outputCol=\"features\")\n",
    "stages += [assembler]"
   ]
  },
  {
   "cell_type": "code",
   "execution_count": 130,
   "metadata": {},
   "outputs": [
    {
     "name": "stdout",
     "output_type": "stream",
     "text": [
      "root\n",
      " |-- label: double (nullable = false)\n",
      " |-- features: vector (nullable = true)\n",
      " |-- show_id: integer (nullable = true)\n",
      " |-- type: string (nullable = true)\n",
      " |-- title: string (nullable = true)\n",
      " |-- director: string (nullable = false)\n",
      " |-- cast: string (nullable = false)\n",
      " |-- Genre: string (nullable = false)\n",
      " |-- country_split: string (nullable = false)\n",
      " |-- country: string (nullable = false)\n",
      " |-- date: string (nullable = true)\n",
      " |-- date_added: string (nullable = true)\n",
      " |-- release_year: integer (nullable = true)\n",
      " |-- rating: string (nullable = true)\n",
      " |-- duration: string (nullable = true)\n",
      " |-- listed_in: string (nullable = false)\n",
      "\n"
     ]
    }
   ],
   "source": [
    "# create a pipeline\n",
    "\n",
    "from pyspark.ml import Pipeline\n",
    "pipeline = Pipeline(stages = stages)\n",
    "pipelineModel = pipeline.fit(df)\n",
    "df = pipelineModel.transform(df)\n",
    "selectedCols = ['label', 'features'] + cols\n",
    "df = df.select(selectedCols)\n",
    "df.printSchema()"
   ]
  },
  {
   "cell_type": "code",
   "execution_count": 131,
   "metadata": {},
   "outputs": [],
   "source": [
    "train, test = df.randomSplit([0.7, 0.3], seed = 2018)"
   ]
  },
  {
   "cell_type": "code",
   "execution_count": 132,
   "metadata": {},
   "outputs": [
    {
     "name": "stdout",
     "output_type": "stream",
     "text": [
      "Training Dataset Count: 3765\n",
      "Test Dataset Count: 1550\n"
     ]
    }
   ],
   "source": [
    "print(\"Training Dataset Count: \" + str(train.count()))\n",
    "print(\"Test Dataset Count: \" + str(test.count()))"
   ]
  },
  {
   "cell_type": "code",
   "execution_count": 133,
   "metadata": {},
   "outputs": [],
   "source": [
    "#Logistic Regression Model\n",
    "from pyspark.ml.classification import LogisticRegression\n",
    "lr = LogisticRegression(featuresCol = 'features', labelCol = 'label', maxIter=10)\n"
   ]
  },
  {
   "cell_type": "code",
   "execution_count": 134,
   "metadata": {},
   "outputs": [],
   "source": [
    "lrModel = lr.fit(train)"
   ]
  },
  {
   "cell_type": "code",
   "execution_count": 135,
   "metadata": {},
   "outputs": [],
   "source": [
    "import matplotlib.pyplot as plt\n",
    "import numpy as np\n"
   ]
  },
  {
   "cell_type": "code",
   "execution_count": 136,
   "metadata": {},
   "outputs": [],
   "source": [
    "beta = np.sort(lrModel.coefficientMatrix.toArray())"
   ]
  },
  {
   "cell_type": "code",
   "execution_count": 137,
   "metadata": {},
   "outputs": [
    {
     "data": {
      "image/png": "[encoded data removed]",
      "text/plain": [
       "<Figure size 432x288 with 1 Axes>"
      ]
     },
     "metadata": {
      "needs_background": "light"
     },
     "output_type": "display_data"
    }
   ],
   "source": [
    "\n",
    "plt.plot(beta)\n",
    "plt.ylabel('Beta Coefficients')\n",
    "plt.show()"
   ]
  },
  {
   "cell_type": "code",
   "execution_count": 138,
   "metadata": {},
   "outputs": [],
   "source": [
    "#Summarize the model over the training set\n",
    "trainingSummary = lrModel.summary"
   ]
  },
  {
   "cell_type": "code",
   "execution_count": 139,
   "metadata": {},
   "outputs": [],
   "source": [
    "from pyspark.ml.evaluation import BinaryClassificationEvaluator"
   ]
  },
  {
   "cell_type": "code",
   "execution_count": 140,
   "metadata": {},
   "outputs": [
    {
     "name": "stdout",
     "output_type": "stream",
     "text": [
      "Coefficients: ${lrModel.coefficients} Intercept: ${lrModel.intercept}\n"
     ]
    }
   ],
   "source": [
    "#Print the coefficients and intercept for logistic regression\n",
    "print(\"Coefficients: ${lrModel.coefficients} Intercept: ${lrModel.intercept}\")"
   ]
  },
  {
   "cell_type": "code",
   "execution_count": 141,
   "metadata": {},
   "outputs": [
    {
     "name": "stdout",
     "output_type": "stream",
     "text": [
      "objectiveHistory:\n",
      "2.1062467589611282\n",
      "0.6316231421864068\n",
      "0.06767558147246702\n",
      "0.04475903139442506\n",
      "0.0195967264177148\n",
      "0.009739907553390242\n",
      "0.004860485692819605\n",
      "0.0024435778487328238\n",
      "0.0012262486107524613\n",
      "0.0006158782452842013\n",
      "0.00030914620114175543\n"
     ]
    }
   ],
   "source": [
    "# Obtain the objective per iteration.\n",
    "objectiveHistory = trainingSummary.objectiveHistory\n",
    "print(\"objectiveHistory:\")\n",
    "for objective in objectiveHistory:\n",
    "    print(objective)"
   ]
  },
  {
   "cell_type": "code",
   "execution_count": 142,
   "metadata": {},
   "outputs": [
    {
     "name": "stdout",
     "output_type": "stream",
     "text": [
      "Training set accuracy = 1\n"
     ]
    }
   ],
   "source": [
    "#Summarize the model over the training set, we can also obtain the receiver-operating characteristic and areaUnderROC.\n",
    "print(\"Training set accuracy = %g\" % trainingSummary.accuracy)"
   ]
  },
  {
   "cell_type": "code",
   "execution_count": 143,
   "metadata": {},
   "outputs": [
    {
     "name": "stdout",
     "output_type": "stream",
     "text": [
      "+-----+--------------------+-------+-----+------------+---------------+--------------------+------+-------------+--------------------+----------+----------------+------------+------+--------+--------------------+--------------------+--------------------+----------+\n",
      "|label|            features|show_id| type|       title|       director|                cast| Genre|country_split|             country|      date|      date_added|release_year|rating|duration|           listed_in|       rawPrediction|         probability|prediction|\n",
      "+-----+--------------------+-------+-----+------------+---------------+--------------------+------+-------------+--------------------+----------+----------------+------------+------+--------+--------------------+--------------------+--------------------+----------+\n",
      "|  0.0|(16299,[0,2,5550,...|   4523|Movie|      22-Jul|Paul Greengrass|Anders Danielsen ...|Dramas|       Norway|Norway, Iceland, ...|10/10/2018|October 10, 2018|        2018|     R| 144 min|   Dramas, Thrillers|[11.3935213432600...|[0.99966796709288...|       0.0|\n",
      "|  0.0|(16299,[0,19,7916...|   5578|Movie|  100 Meters| Marcel Barrena|Dani Rovira, Karr...|Dramas|     Portugal|     Portugal, Spain|10/03/2017|  March 10, 2017|        2016| TV-MA| 109 min|Dramas, Internati...|[5.91232504161290...|[0.75354848739738...|       0.0|\n",
      "|  0.0|(16299,[0,22,8691...|   5986|Movie|12 ROUND GUN|      Sam Upton|Sam Upton, Jared ...|Dramas|United States|       United States|14/03/2019|  March 14, 2019|        2017| TV-MA|  90 min|Dramas, Independe...|[5.72750400988669...|[0.83628785550549...|       0.0|\n",
      "|  0.0|(16299,[0,30,6988...|   2551|Movie| 18 Presents|Francesco Amato|Vittoria Puccini,...|Dramas|        Italy|               Italy|08/05/2020|     May 8, 2020|        2020| TV-MA| 114 min|Dramas, Independe...|[5.39964882233571...|[0.78762029323510...|       0.0|\n",
      "|  0.0|(16299,[0,38,7743...|    775|Movie|    2 Hearts|     Lance Hool|Jacob Elordi, Ada...|Dramas|United States|       United States|02/06/2021|    June 2, 2021|        2020| PG-13| 101 min|Dramas, Faith & S...|[5.71228650393810...|[0.81044093689203...|       0.0|\n",
      "+-----+--------------------+-------+-----+------------+---------------+--------------------+------+-------------+--------------------+----------+----------------+------------+------+--------+--------------------+--------------------+--------------------+----------+\n",
      "only showing top 5 rows\n",
      "\n"
     ]
    }
   ],
   "source": [
    "# Make predictions.\n",
    "predictions = lrModel.transform(test)\n",
    "# Select example rows to display.\n",
    "predictions.show(5)"
   ]
  },
  {
   "cell_type": "code",
   "execution_count": 144,
   "metadata": {},
   "outputs": [
    {
     "name": "stdout",
     "output_type": "stream",
     "text": [
      "+-----+----------------+------+-----+--------------------+----------+--------------------+\n",
      "| type|           title| Genre|label|       rawPrediction|prediction|         probability|\n",
      "+-----+----------------+------+-----+--------------------+----------+--------------------+\n",
      "|Movie|          22-Jul|Dramas|  0.0|[11.3935213432600...|       0.0|[0.99966796709288...|\n",
      "|Movie|      100 Meters|Dramas|  0.0|[5.91232504161290...|       0.0|[0.75354848739738...|\n",
      "|Movie|    12 ROUND GUN|Dramas|  0.0|[5.72750400988669...|       0.0|[0.83628785550549...|\n",
      "|Movie|     18 Presents|Dramas|  0.0|[5.39964882233571...|       0.0|[0.78762029323510...|\n",
      "|Movie|        2 Hearts|Dramas|  0.0|[5.71228650393810...|       0.0|[0.81044093689203...|\n",
      "|Movie|        26 Years|Dramas|  0.0|[5.46265235976346...|       0.0|[0.80067230835986...|\n",
      "|Movie|        365 Days|Dramas|  0.0|[5.97644017574208...|       0.0|[0.86802528285701...|\n",
      "|Movie|          7 años|Dramas|  0.0|[5.94299103528235...|       0.0|[0.86731008845977...|\n",
      "|Movie|        99 Songs|Dramas|  0.0|[5.60481257994752...|       0.0|[0.69455830086842...|\n",
      "|Movie|A Beautiful Life|Dramas|  0.0|[4.34060596093355...|       1.0|[0.28921489725575...|\n",
      "+-----+----------------+------+-----+--------------------+----------+--------------------+\n",
      "only showing top 10 rows\n",
      "\n"
     ]
    }
   ],
   "source": [
    "# Make predictions with selected columns.\n",
    "predictions = lrModel.transform(test)\n",
    "predictions.select('type', 'title', 'Genre','label', 'rawPrediction', 'prediction', 'probability').show(10)"
   ]
  },
  {
   "cell_type": "code",
   "execution_count": 163,
   "metadata": {},
   "outputs": [],
   "source": [
    "# Set the model threshold to maximize F-Measure\n",
    "evaluator = BinaryClassificationEvaluator(rawPredictionCol='rawPrediction')\n",
    "thresholds = np.linspace(0.01, 0.99, 100)"
   ]
  },
  {
   "cell_type": "code",
   "execution_count": 146,
   "metadata": {},
   "outputs": [
    {
     "name": "stdout",
     "output_type": "stream",
     "text": [
      "Test Error = 0.11354838709677417\n"
     ]
    }
   ],
   "source": [
    "from pyspark.ml.evaluation import MulticlassClassificationEvaluator\n",
    "\n",
    "# Select (prediction, true label) and compute test error.\n",
    "\n",
    "evaluator = MulticlassClassificationEvaluator(labelCol=\"label\", predictionCol=\"prediction\", metricName=\"accuracy\")\n",
    "accuracy = evaluator.evaluate(predictions)\n",
    "print(\"Test Error = \" + str(1.0 - accuracy))"
   ]
  },
  {
   "cell_type": "code",
   "execution_count": 164,
   "metadata": {},
   "outputs": [
    {
     "name": "stdout",
     "output_type": "stream",
     "text": [
      "+-----+----------------+------+-----+--------------------+----------+--------------------+\n",
      "| type|           title| Genre|label|       rawPrediction|prediction|         probability|\n",
      "+-----+----------------+------+-----+--------------------+----------+--------------------+\n",
      "|Movie|          22-Jul|Dramas|  0.0|[826.0,799.0,554....|       0.0|[0.25942211055276...|\n",
      "|Movie|      100 Meters|Dramas|  0.0|[826.0,799.0,554....|       0.0|[0.25942211055276...|\n",
      "|Movie|    12 ROUND GUN|Dramas|  0.0|[826.0,799.0,554....|       0.0|[0.25942211055276...|\n",
      "|Movie|     18 Presents|Dramas|  0.0|[826.0,799.0,554....|       0.0|[0.25942211055276...|\n",
      "|Movie|        2 Hearts|Dramas|  0.0|[826.0,799.0,554....|       0.0|[0.25942211055276...|\n",
      "|Movie|        26 Years|Dramas|  0.0|[826.0,799.0,554....|       0.0|[0.25942211055276...|\n",
      "|Movie|        365 Days|Dramas|  0.0|[826.0,799.0,554....|       0.0|[0.25942211055276...|\n",
      "|Movie|          7 años|Dramas|  0.0|[244.0,0.0,0.0,0....|       0.0|[1.0,0.0,0.0,0.0,...|\n",
      "|Movie|        99 Songs|Dramas|  0.0|[826.0,799.0,554....|       0.0|[0.25942211055276...|\n",
      "|Movie|A Beautiful Life|Dramas|  0.0|[826.0,799.0,554....|       0.0|[0.25942211055276...|\n",
      "+-----+----------------+------+-----+--------------------+----------+--------------------+\n",
      "only showing top 10 rows\n",
      "\n"
     ]
    }
   ],
   "source": [
    "#Decision Tree Classifier\n",
    "from pyspark.ml.classification import DecisionTreeClassifier\n",
    "dt = DecisionTreeClassifier(featuresCol = 'features', labelCol = 'label', maxDepth = 3)\n",
    "dtModel = dt.fit(train)\n",
    "predictions = dtModel.transform(test)\n",
    "predictions.select('type', 'title','Genre', 'label', 'rawPrediction', 'prediction', 'probability').show(10)"
   ]
  },
  {
   "cell_type": "code",
   "execution_count": 168,
   "metadata": {},
   "outputs": [
    {
     "name": "stdout",
     "output_type": "stream",
     "text": [
      "+-----+----------------+------+-----+--------------------+----------+--------------------+\n",
      "| type|           title| Genre|label|       rawPrediction|prediction|         probability|\n",
      "+-----+----------------+------+-----+--------------------+----------+--------------------+\n",
      "|Movie|          22-Jul|Dramas|  0.0|[7.25958253217095...|       0.0|[0.36297912660854...|\n",
      "|Movie|      100 Meters|Dramas|  0.0|[7.30404946601403...|       0.0|[0.36520247330070...|\n",
      "|Movie|    12 ROUND GUN|Dramas|  0.0|[5.87574332683683...|       0.0|[0.29378716634184...|\n",
      "|Movie|     18 Presents|Dramas|  0.0|[5.87574332683683...|       0.0|[0.29378716634184...|\n",
      "|Movie|        2 Hearts|Dramas|  0.0|[5.82035212774897...|       0.0|[0.29101760638744...|\n",
      "|Movie|        26 Years|Dramas|  0.0|[5.87574332683683...|       0.0|[0.29378716634184...|\n",
      "|Movie|        365 Days|Dramas|  0.0|[5.87574332683683...|       0.0|[0.29378716634184...|\n",
      "|Movie|          7 años|Dramas|  0.0|[5.87574332683683...|       0.0|[0.29378716634184...|\n",
      "|Movie|        99 Songs|Dramas|  0.0|[6.01061050363048...|       0.0|[0.30053052518152...|\n",
      "|Movie|A Beautiful Life|Dramas|  0.0|[5.82035212774897...|       0.0|[0.29101760638744...|\n",
      "+-----+----------------+------+-----+--------------------+----------+--------------------+\n",
      "only showing top 10 rows\n",
      "\n"
     ]
    }
   ],
   "source": [
    "# Random Forest Classifier\n",
    "from pyspark.ml.classification import RandomForestClassifier\n",
    "rf = RandomForestClassifier(featuresCol = 'features', labelCol = 'label')\n",
    "rfModel = rf.fit(train)\n",
    "predictions = rfModel.transform(test)\n",
    "predictions.select('type', 'title', 'Genre','label', 'rawPrediction', 'prediction', 'probability').show(10)\n"
   ]
  },
  {
   "cell_type": "code",
   "execution_count": 171,
   "metadata": {},
   "outputs": [],
   "source": [
    "# confusion matrix\n",
    "import matplotlib.pyplot as plt\n",
    "import numpy as np\n",
    "import itertools\n",
    "\n",
    "def plot_confusion_matrix(cm, classes,\n",
    "                          normalize=False,\n",
    "                          title='Confusion matrix',\n",
    "                          cmap=plt.cm.Blues):\n",
    "    \"\"\"\n",
    "    This function prints and plots the confusion matrix.\n",
    "    Normalization can be applied by setting `normalize=True`.\n",
    "    \"\"\"\n",
    "    if normalize:\n",
    "        cm = cm.astype('float') / cm.sum(axis=1)[:, np.newaxis]\n",
    "        print(\"Normalized confusion matrix\")\n",
    "    else:\n",
    "        print('Confusion matrix, without normalization')\n",
    "\n",
    "    print(cm)\n",
    "\n",
    "    plt.imshow(cm, interpolation='nearest', cmap=cmap)\n",
    "    plt.title(title)\n",
    "    plt.colorbar()\n",
    "    tick_marks = np.arange(len(classes))\n",
    "    plt.xticks(tick_marks, classes, rotation=45)\n",
    "    plt.yticks(tick_marks, classes)\n",
    "\n",
    "    fmt = '.2f' if normalize else 'd'\n",
    "    thresh = cm.max() / 2.\n",
    "    for i, j in itertools.product(range(cm.shape[0]), range(cm.shape[1])):\n",
    "        plt.text(j, i, format(cm[i, j], fmt),\n",
    "                 horizontalalignment=\"center\",\n",
    "                 color=\"white\" if cm[i, j] > thresh else \"black\")\n",
    "\n",
    "    plt.tight_layout()\n",
    "    plt.ylabel('True label')\n",
    "    plt.xlabel('Predicted label')"
   ]
  },
  {
   "cell_type": "code",
   "execution_count": 172,
   "metadata": {},
   "outputs": [
    {
     "data": {
      "text/plain": [
       "<map at 0x1a5956804c0>"
      ]
     },
     "execution_count": 172,
     "metadata": {},
     "output_type": "execute_result"
    }
   ],
   "source": [
    "class_temp = predictions.select(\"label\").groupBy(\"label\")\\\n",
    "                        .count().sort('count', ascending=False).toPandas()\n",
    "class_temp = class_temp[\"label\"].values.tolist()\n",
    "class_names = map(str, class_temp)\n",
    "# # # print(class_name)\n",
    "class_names"
   ]
  },
  {
   "cell_type": "code",
   "execution_count": 173,
   "metadata": {},
   "outputs": [
    {
     "data": {
      "text/plain": [
       "['no', 'yes']"
      ]
     },
     "execution_count": 173,
     "metadata": {},
     "output_type": "execute_result"
    }
   ],
   "source": [
    "['no', 'yes']"
   ]
  },
  {
   "cell_type": "code",
   "execution_count": 195,
   "metadata": {},
   "outputs": [],
   "source": [
    "from sklearn.metrics import confusion_matrix\n",
    "y_true = predictions.select(\"label\")\n",
    "y_true = y_true.toPandas()\n",
    "y_true = y_true[\"label\"].values.tolist()"
   ]
  },
  {
   "cell_type": "code",
   "execution_count": 199,
   "metadata": {},
   "outputs": [],
   "source": [
    "y_pred = predictions.select(\"prediction\")\n",
    "y_pred = y_pred.toPandas()\n",
    "y_pred = y_pred[\"prediction\"].values.tolist()"
   ]
  },
  {
   "cell_type": "code",
   "execution_count": 202,
   "metadata": {},
   "outputs": [],
   "source": [
    "# calculate confusion matrix\n",
    "cm = confusion_matrix(y_true, y_pred)\n",
    "np.set_printoptions(precision=2)\n"
   ]
  },
  {
   "cell_type": "code",
   "execution_count": 205,
   "metadata": {},
   "outputs": [
    {
     "name": "stdout",
     "output_type": "stream",
     "text": [
      "Confusion matrix, without normalization\n",
      "[[442   0   0   0   0   0   0   0   0   0   0   0   0   0   0   0   0   0\n",
      "    0   0]\n",
      " [285  39   0   0   0   0   0   0   0   0   0   0   0   0   0   0   0   0\n",
      "    0   0]\n",
      " [239   0  11   0   0   0   0   0   0   0   0   0   0   0   0   0   0   0\n",
      "    0   0]\n",
      " [109   0   0   9   0   0   0   0   0   0   0   0   0   0   0   0   0   0\n",
      "    0   0]\n",
      " [107   0   0   0   0   0   0   0   0   0   0   0   0   0   0   0   0   0\n",
      "    0   0]\n",
      " [ 94   0   0   0   0   0   0   0   0   0   0   0   0   0   0   0   0   0\n",
      "    0   0]\n",
      " [ 78   0   0   0   0   0   0   0   0   0   0   0   0   0   0   0   0   0\n",
      "    0   0]\n",
      " [ 47   0   0   0   0   0   0   0   0   0   0   0   0   0   0   0   0   0\n",
      "    0   0]\n",
      " [ 20   0   0   0   0   0   0   0   0   0   0   0   0   0   0   0   0   0\n",
      "    0   0]\n",
      " [ 16   0   0   0   0   0   0   0   0   0   0   0   0   0   0   0   0   0\n",
      "    0   0]\n",
      " [  9   0   0   0   0   0   0   0   0   0   0   0   0   0   0   0   0   0\n",
      "    0   0]\n",
      " [  7   0   0   0   0   0   0   0   0   0   0   0   0   0   0   0   0   0\n",
      "    0   0]\n",
      " [  6   0   0   0   0   0   0   0   0   0   0   0   0   0   0   0   0   0\n",
      "    0   0]\n",
      " [ 10   0   0   0   0   0   0   0   0   0   0   0   0   0   0   0   0   0\n",
      "    0   0]\n",
      " [  4   0   0   0   0   0   0   0   0   0   0   0   0   0   0   0   0   0\n",
      "    0   0]\n",
      " [  3   0   0   0   0   0   0   0   0   0   0   0   0   0   0   0   0   0\n",
      "    0   0]\n",
      " [  3   0   0   0   0   0   0   0   0   0   0   0   0   0   0   0   0   0\n",
      "    0   0]\n",
      " [  7   0   0   0   0   0   0   0   0   0   0   0   0   0   0   0   0   0\n",
      "    0   0]\n",
      " [  4   0   0   0   0   0   0   0   0   0   0   0   0   0   0   0   0   0\n",
      "    0   0]\n",
      " [  1   0   0   0   0   0   0   0   0   0   0   0   0   0   0   0   0   0\n",
      "    0   0]]\n"
     ]
    },
    {
     "ename": "TypeError",
     "evalue": "object of type 'map' has no len()",
     "output_type": "error",
     "traceback": [
      "\u001b[1;31m---------------------------------------------------------------------------\u001b[0m",
      "\u001b[1;31mTypeError\u001b[0m                                 Traceback (most recent call last)",
      "\u001b[1;32mc:\\Users\\anjun\\Downloads\\Netflix Using PySpark LR Old data.ipynb Cell 72'\u001b[0m in \u001b[0;36m<cell line: 3>\u001b[1;34m()\u001b[0m\n\u001b[0;32m      <a href='vscode-notebook-cell:/c%3A/Users/anjun/Downloads/Netflix%20Using%20PySpark%20LR%20Old%20data.ipynb#ch0000088?line=0'>1</a>\u001b[0m \u001b[39m# plot confusion matrix\u001b[39;00m\n\u001b[0;32m      <a href='vscode-notebook-cell:/c%3A/Users/anjun/Downloads/Netflix%20Using%20PySpark%20LR%20Old%20data.ipynb#ch0000088?line=1'>2</a>\u001b[0m plt\u001b[39m.\u001b[39mfigure()\n\u001b[1;32m----> <a href='vscode-notebook-cell:/c%3A/Users/anjun/Downloads/Netflix%20Using%20PySpark%20LR%20Old%20data.ipynb#ch0000088?line=2'>3</a>\u001b[0m plot_confusion_matrix(cm, classes\u001b[39m=\u001b[39;49mclass_names, normalize\u001b[39m=\u001b[39;49m\u001b[39mFalse\u001b[39;49;00m,  title\u001b[39m=\u001b[39;49m\u001b[39m'\u001b[39;49m\u001b[39mNon-Normalized confusion matrix\u001b[39;49m\u001b[39m'\u001b[39;49m)\n\u001b[0;32m      <a href='vscode-notebook-cell:/c%3A/Users/anjun/Downloads/Netflix%20Using%20PySpark%20LR%20Old%20data.ipynb#ch0000088?line=3'>4</a>\u001b[0m plt\u001b[39m.\u001b[39mshow()\n",
      "\u001b[1;32mc:\\Users\\anjun\\Downloads\\Netflix Using PySpark LR Old data.ipynb Cell 66'\u001b[0m in \u001b[0;36mplot_confusion_matrix\u001b[1;34m(cm, classes, normalize, title, cmap)\u001b[0m\n\u001b[0;32m     <a href='vscode-notebook-cell:/c%3A/Users/anjun/Downloads/Netflix%20Using%20PySpark%20LR%20Old%20data.ipynb#ch0000082?line=22'>23</a>\u001b[0m plt\u001b[39m.\u001b[39mtitle(title)\n\u001b[0;32m     <a href='vscode-notebook-cell:/c%3A/Users/anjun/Downloads/Netflix%20Using%20PySpark%20LR%20Old%20data.ipynb#ch0000082?line=23'>24</a>\u001b[0m plt\u001b[39m.\u001b[39mcolorbar()\n\u001b[1;32m---> <a href='vscode-notebook-cell:/c%3A/Users/anjun/Downloads/Netflix%20Using%20PySpark%20LR%20Old%20data.ipynb#ch0000082?line=24'>25</a>\u001b[0m tick_marks \u001b[39m=\u001b[39m np\u001b[39m.\u001b[39marange(\u001b[39mlen\u001b[39;49m(classes))\n\u001b[0;32m     <a href='vscode-notebook-cell:/c%3A/Users/anjun/Downloads/Netflix%20Using%20PySpark%20LR%20Old%20data.ipynb#ch0000082?line=25'>26</a>\u001b[0m plt\u001b[39m.\u001b[39mxticks(tick_marks, classes, rotation\u001b[39m=\u001b[39m\u001b[39m45\u001b[39m)\n\u001b[0;32m     <a href='vscode-notebook-cell:/c%3A/Users/anjun/Downloads/Netflix%20Using%20PySpark%20LR%20Old%20data.ipynb#ch0000082?line=26'>27</a>\u001b[0m plt\u001b[39m.\u001b[39myticks(tick_marks, classes)\n",
      "\u001b[1;31mTypeError\u001b[0m: object of type 'map' has no len()"
     ]
    },
    {
     "data": {
      "image/png": "[encoded data removed]",
      "text/plain": [
       "<Figure size 432x288 with 2 Axes>"
      ]
     },
     "metadata": {
      "needs_background": "light"
     },
     "output_type": "display_data"
    }
   ],
   "source": [
    "# plot confusion matrix\n",
    "plt.figure()\n",
    "plot_confusion_matrix(cm, classes=class_names, normalize=False,  title='Non-Normalized confusion matrix')\n",
    "plt.show()"
   ]
  },
  {
   "cell_type": "code",
   "execution_count": null,
   "metadata": {},
   "outputs": [],
   "source": [
    "# export to code to word\n",
    "import win32com.client as win32\n"
   ]
  }
 ],
 "metadata": {
  "kernelspec": {
   "display_name": "Python 3.9.7 ('base')",
   "language": "python",
   "name": "python3"
  },
  "language_info": {
   "codemirror_mode": {
    "name": "ipython",
    "version": 3
   },
   "file_extension": ".py",
   "mimetype": "text/x-python",
   "name": "python",
   "nbconvert_exporter": "python",
   "pygments_lexer": "ipython3",
   "version": "3.9.12"
  },
  "orig_nbformat": 4,
  "vscode": {
   "interpreter": {
    "hash": "9f274c8b711e2131c324422a96c2caa3ad8dfe2413baebe775e64585dc86464f"
   }
  }
 },
 "nbformat": 4,
 "nbformat_minor": 2
}
